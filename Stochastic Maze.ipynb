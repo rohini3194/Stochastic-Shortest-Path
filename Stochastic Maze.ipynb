{
  "nbformat": 4,
  "nbformat_minor": 0,
  "metadata": {
    "colab": {
      "provenance": []
    },
    "kernelspec": {
      "name": "python3",
      "display_name": "Python 3"
    },
    "language_info": {
      "name": "python"
    }
  },
  "cells": [
    {
      "cell_type": "code",
      "execution_count": 1,
      "metadata": {
        "id": "LYE_VrWMI4kg"
      },
      "outputs": [],
      "source": [
        "import numpy as np\n",
        "import matplotlib.pyplot as plt\n",
        "%matplotlib inline"
      ]
    },
    {
      "cell_type": "code",
      "source": [],
      "metadata": {
        "id": "npmdkCsFJImn"
      },
      "execution_count": null,
      "outputs": []
    },
    {
      "cell_type": "code",
      "source": [],
      "metadata": {
        "id": "ep-2PslWJTAw"
      },
      "execution_count": null,
      "outputs": []
    },
    {
      "cell_type": "code",
      "source": [
        "def value_iteration(grid, gamma):\n",
        "    \"\"\"\n",
        "    Performs value iteration on a given grid of MDPState objects.\n",
        "    \"\"\"\n",
        "\n",
        "    policy = [['up' for i in range(len(grid[0]))] for j in range(len(grid))]\n",
        "    actions = ['up', 'down', 'left', 'right']\n",
        "\n",
        "    is_value_changed = True\n",
        "    \n",
        "    iterations = 0\n",
        "    \n",
        "    # iterate values until convergence\n",
        "    while is_value_changed:\n",
        "        is_value_changed = False\n",
        "        for i in range(len(grid)):\n",
        "                for j in range(len(grid[i])):\n",
        "                    if grid[i][j] != '#':\n",
        "                        q = []\n",
        "                        for a in actions:\n",
        "                            neighbor = getattr(grid[i][j], a) # Get coordinates of neighboring cell\n",
        "                            q.append(grid[i][j].reward + gamma * grid[neighbor[0]][neighbor[1]].value)\n",
        "                        v = max(q)\n",
        "                        \n",
        "                        if v != grid[i][j].value:\n",
        "                            is_value_changed = True\n",
        "                            grid[i][j].value = v\n",
        "                            \n",
        "        iterations += 1"
      ],
      "metadata": {
        "id": "FznqL6mBImHa"
      },
      "execution_count": 2,
      "outputs": []
    },
    {
      "cell_type": "code",
      "source": [
        "                  \n",
        "    return(policy)\n",
        "    \n",
        "def prettify_policy(policy):\n",
        "    policy_str = '\\n'.join([''.join(row) for row in policy])\n",
        "    policy_str = re.sub('up', '↑', policy_str)\n",
        "    policy_str = re.sub('down', '↓', policy_str)\n",
        "    policy_str = re.sub('right', '→', policy_str)\n",
        "    policy_str = re.sub('left', '←', policy_str)\n",
        "    return(policy_str)\n",
        "\n",
        "if __name__ == '__main__':\n",
        "    test_maze = AldousBroder(3, 3).generate()\n",
        "    test_mdp = maze_to_mdp(test_maze)\n",
        "    test_policy = policy_iteration(test_mdp, .9)\n",
        "    test_policy_str = prettify_policy(test_policy)\n",
        "\n",
        "    print(test_maze)\n",
        "    print(test_policy_str)"
      ],
      "metadata": {
        "colab": {
          "base_uri": "https://localhost:8080/",
          "height": 131
        },
        "id": "C7-xFXX_JT1D",
        "outputId": "7dbbdc54-019d-4f3e-eb81-b5d8b7621017"
      },
      "execution_count": 3,
      "outputs": [
        {
          "output_type": "error",
          "ename": "IndentationError",
          "evalue": "ignored",
          "traceback": [
            "\u001b[0;36m  File \u001b[0;32m\"<ipython-input-3-05948a3af384>\"\u001b[0;36m, line \u001b[0;32m4\u001b[0m\n\u001b[0;31m    policy_str = '\\n'.join([''.join(row) for row in policy])\u001b[0m\n\u001b[0m    ^\u001b[0m\n\u001b[0;31mIndentationError\u001b[0m\u001b[0;31m:\u001b[0m expected an indented block\n"
          ]
        }
      ]
    }
  ]
}